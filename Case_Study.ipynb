{
 "cells": [
  {
   "cell_type": "code",
   "execution_count": 1,
   "metadata": {},
   "outputs": [],
   "source": [
    "import pandas as pd\n",
    "import numpy as np\n",
    "import datetime "
   ]
  },
  {
   "cell_type": "code",
   "execution_count": 2,
   "metadata": {},
   "outputs": [],
   "source": [
    "import statsmodels.formula.api as smf\n",
    "import os\n",
    "import matplotlib.pyplot as plt\n",
    "import seaborn as sns\n",
    "import plotly.express as pxy\n",
    "import plotly.graph_objects as go\n",
    "# from sklearn.metrics import r2_score, mean_squared_error\n",
    "# import sklearn.metrics\n",
    "# from sklearn.metrics import confusion_matrix, accuracy_score\n",
    "# from sklearn.model_selection import train_test_split\n",
    "\n",
    "# from scipy.stats import shapiro"
   ]
  },
  {
   "cell_type": "code",
   "execution_count": 3,
   "metadata": {},
   "outputs": [],
   "source": [
    "pd.set_option('display.max_rows', 1000)\n",
    "pd.options.display.max_columns = 1000"
   ]
  },
  {
   "cell_type": "markdown",
   "metadata": {},
   "source": [
    "# \"Let's get the mop?!\" Data imports and cleaning"
   ]
  },
  {
   "cell_type": "code",
   "execution_count": 4,
   "metadata": {},
   "outputs": [],
   "source": [
    "# dict_df['HubSpot Customer Base Metadata'].info()\n",
    "# Cannot use xlrd package to read excel file because a critical number of rows are deleted. Expected 250k+, only received 65k+ "
   ]
  },
  {
   "cell_type": "code",
   "execution_count": 17,
   "metadata": {},
   "outputs": [],
   "source": [
    "hcm = pd.read_csv('C:/Users/shant/GNIZE/Study/HubSpot_Customer_Base_Metadata.csv', header=0)\n",
    "hcv = pd.read_csv('C:/Users/shant/GNIZE/Study/HubSpot_Customer_Base_Value.csv', header=0) \n",
    "ie = pd.read_csv('C:/Users/shant/GNIZE/Study/Integration_Ecosystem.csv', header=0)"
   ]
  },
  {
   "cell_type": "markdown",
   "metadata": {},
   "source": [
    "removing duplicates"
   ]
  },
  {
   "cell_type": "code",
   "execution_count": 18,
   "metadata": {},
   "outputs": [],
   "source": [
    "hcm = hcm.drop_duplicates()\n",
    "hcv = hcv.drop_duplicates()\n",
    "ie = ie.drop_duplicates()"
   ]
  },
  {
   "cell_type": "markdown",
   "metadata": {},
   "source": [
    "checking for null values"
   ]
  },
  {
   "cell_type": "code",
   "execution_count": 22,
   "metadata": {
    "collapsed": true
   },
   "outputs": [
    {
     "name": "stdout",
     "output_type": "stream",
     "text": [
      "<class 'pandas.core.frame.DataFrame'>\n",
      "Int64Index: 274125 entries, 0 to 274126\n",
      "Data columns (total 6 columns):\n",
      " #   Column                  Non-Null Count   Dtype \n",
      "---  ------                  --------------   ----- \n",
      " 0   Customer ID             274125 non-null  int64 \n",
      " 1   Report Month            274125 non-null  object\n",
      " 2   Customer Employee Size  274125 non-null  object\n",
      " 3   Product Tier            274125 non-null  object\n",
      " 4   Customer Segment        274125 non-null  object\n",
      " 5   Number of Integrations  274125 non-null  int64 \n",
      "dtypes: int64(2), object(4)\n",
      "memory usage: 14.6+ MB\n"
     ]
    }
   ],
   "source": [
    "hcm.info()\n",
    "#only dataset with null values. Product Tier contains customers with Undefined and null values. "
   ]
  },
  {
   "cell_type": "code",
   "execution_count": 23,
   "metadata": {},
   "outputs": [],
   "source": [
    "hcm.replace(np.NaN, 'Undefined', inplace=True)\n",
    "#filling null values with Undefined. To be addressed after joining tables below"
   ]
  },
  {
   "cell_type": "code",
   "execution_count": 30,
   "metadata": {
    "collapsed": true
   },
   "outputs": [
    {
     "name": "stdout",
     "output_type": "stream",
     "text": [
      "<class 'pandas.core.frame.DataFrame'>\n",
      "Int64Index: 273984 entries, 0 to 274126\n",
      "Data columns (total 5 columns):\n",
      " #   Column                             Non-Null Count   Dtype \n",
      "---  ------                             --------------   ----- \n",
      " 0   Customer ID                        273984 non-null  int64 \n",
      " 1   Report Month                       273984 non-null  object\n",
      " 2   Customer Value Beginning of Month  273984 non-null  object\n",
      " 3   Customer Value End of Month        273984 non-null  object\n",
      " 4   Customer Cancellation Dollars      273984 non-null  object\n",
      "dtypes: int64(1), object(4)\n",
      "memory usage: 12.5+ MB\n"
     ]
    }
   ],
   "source": [
    "hcv.info()"
   ]
  },
  {
   "cell_type": "code",
   "execution_count": 31,
   "metadata": {
    "collapsed": true
   },
   "outputs": [
    {
     "name": "stdout",
     "output_type": "stream",
     "text": [
      "<class 'pandas.core.frame.DataFrame'>\n",
      "Int64Index: 32746 entries, 0 to 32745\n",
      "Data columns (total 9 columns):\n",
      " #   Column                                    Non-Null Count  Dtype \n",
      "---  ------                                    --------------  ----- \n",
      " 0   Integration ID                            32746 non-null  int64 \n",
      " 1   Report Month                              32746 non-null  object\n",
      " 2   Integration Connect Partner? (Yes/No)     32746 non-null  object\n",
      " 3   Paid Portal Installed Count               32746 non-null  int64 \n",
      " 4   Free Portal Installed Count               32746 non-null  int64 \n",
      " 5   Total Installed Count                     32746 non-null  int64 \n",
      " 6   Integration Total MRR Beginning of Month  32746 non-null  object\n",
      " 7   Integration Total MRR End of Month        32746 non-null  object\n",
      " 8   Integration Total Cancellation Dollars    32746 non-null  object\n",
      "dtypes: int64(4), object(5)\n",
      "memory usage: 2.5+ MB\n"
     ]
    }
   ],
   "source": [
    "ie.info()"
   ]
  },
  {
   "cell_type": "markdown",
   "metadata": {},
   "source": [
    "changing datatypes "
   ]
  },
  {
   "cell_type": "code",
   "execution_count": 32,
   "metadata": {},
   "outputs": [],
   "source": [
    "# hcm['Customer_ID'] = hcm['Customer_ID'].astype(str)\n",
    "hcm['Report Month'] = pd.to_datetime(hcm['Report Month'], format='%Y-%m').dt.to_period('m')\n",
    "hcv['Report Month'] = pd.to_datetime(hcv['Report Month'], format='%Y-%m').dt.to_period('m')\n",
    "ie['Report Month'] = pd.to_datetime(ie['Report Month'], format='%Y-%m').dt.to_period('m')"
   ]
  },
  {
   "cell_type": "code",
   "execution_count": 33,
   "metadata": {},
   "outputs": [],
   "source": [
    "def remove_dollar_and_commas_and_convert_to_float(value):\n",
    "    if isinstance(value, str) and any(char.isdigit() for char in value):\n",
    "        # Remove dollar sign and commas and convert to float\n",
    "        value_cleaned = value.replace('$', '').replace(',', '')\n",
    "        return float(value_cleaned)\n",
    "    elif isinstance(value, (int, float)):\n",
    "        return float(value)\n",
    "    else:\n",
    "        return value"
   ]
  },
  {
   "cell_type": "code",
   "execution_count": 34,
   "metadata": {},
   "outputs": [],
   "source": [
    "hcv = hcv.applymap(remove_dollar_and_commas_and_convert_to_float)\n",
    "ie = ie.applymap(remove_dollar_and_commas_and_convert_to_float)"
   ]
  },
  {
   "cell_type": "markdown",
   "metadata": {},
   "source": [
    "new columns for anaysis"
   ]
  },
  {
   "cell_type": "code",
   "execution_count": 35,
   "metadata": {},
   "outputs": [],
   "source": [
    "ie['Integration Total MRR Increase'] = ie['Integration Total MRR End of Month'].subtract(ie['Integration Total MRR Beginning of Month'])"
   ]
  },
  {
   "cell_type": "code",
   "execution_count": 36,
   "metadata": {},
   "outputs": [],
   "source": [
    "check= ie[ie['Integration Total MRR Increase'] < 0]"
   ]
  },
  {
   "cell_type": "code",
   "execution_count": 37,
   "metadata": {
    "collapsed": true
   },
   "outputs": [
    {
     "data": {
      "text/html": [
       "<div>\n",
       "<style scoped>\n",
       "    .dataframe tbody tr th:only-of-type {\n",
       "        vertical-align: middle;\n",
       "    }\n",
       "\n",
       "    .dataframe tbody tr th {\n",
       "        vertical-align: top;\n",
       "    }\n",
       "\n",
       "    .dataframe thead th {\n",
       "        text-align: right;\n",
       "    }\n",
       "</style>\n",
       "<table border=\"1\" class=\"dataframe\">\n",
       "  <thead>\n",
       "    <tr style=\"text-align: right;\">\n",
       "      <th></th>\n",
       "      <th>Integration ID</th>\n",
       "      <th>Report Month</th>\n",
       "      <th>Integration Connect Partner? (Yes/No)</th>\n",
       "      <th>Paid Portal Installed Count</th>\n",
       "      <th>Free Portal Installed Count</th>\n",
       "      <th>Total Installed Count</th>\n",
       "      <th>Integration Total MRR Beginning of Month</th>\n",
       "      <th>Integration Total MRR End of Month</th>\n",
       "      <th>Integration Total Cancellation Dollars</th>\n",
       "      <th>Integration Total MRR Increase</th>\n",
       "    </tr>\n",
       "  </thead>\n",
       "  <tbody>\n",
       "    <tr>\n",
       "      <th>104</th>\n",
       "      <td>105.0</td>\n",
       "      <td>2019-01</td>\n",
       "      <td>Yes</td>\n",
       "      <td>26.0</td>\n",
       "      <td>8.0</td>\n",
       "      <td>34.0</td>\n",
       "      <td>38092.0</td>\n",
       "      <td>37816.0</td>\n",
       "      <td>0.0</td>\n",
       "      <td>-276.0</td>\n",
       "    </tr>\n",
       "    <tr>\n",
       "      <th>117</th>\n",
       "      <td>118.0</td>\n",
       "      <td>2019-01</td>\n",
       "      <td>Yes</td>\n",
       "      <td>1882.0</td>\n",
       "      <td>943.0</td>\n",
       "      <td>2825.0</td>\n",
       "      <td>2824724.0</td>\n",
       "      <td>2812074.0</td>\n",
       "      <td>-42117.0</td>\n",
       "      <td>-12650.0</td>\n",
       "    </tr>\n",
       "    <tr>\n",
       "      <th>147</th>\n",
       "      <td>148.0</td>\n",
       "      <td>2019-01</td>\n",
       "      <td>No</td>\n",
       "      <td>1.0</td>\n",
       "      <td>1.0</td>\n",
       "      <td>2.0</td>\n",
       "      <td>900.0</td>\n",
       "      <td>875.0</td>\n",
       "      <td>0.0</td>\n",
       "      <td>-25.0</td>\n",
       "    </tr>\n",
       "    <tr>\n",
       "      <th>195</th>\n",
       "      <td>196.0</td>\n",
       "      <td>2019-01</td>\n",
       "      <td>No</td>\n",
       "      <td>2.0</td>\n",
       "      <td>0.0</td>\n",
       "      <td>2.0</td>\n",
       "      <td>9803.0</td>\n",
       "      <td>9556.0</td>\n",
       "      <td>0.0</td>\n",
       "      <td>-247.0</td>\n",
       "    </tr>\n",
       "    <tr>\n",
       "      <th>233</th>\n",
       "      <td>234.0</td>\n",
       "      <td>2019-01</td>\n",
       "      <td>No</td>\n",
       "      <td>81.0</td>\n",
       "      <td>29.0</td>\n",
       "      <td>110.0</td>\n",
       "      <td>164620.0</td>\n",
       "      <td>157350.0</td>\n",
       "      <td>-4964.0</td>\n",
       "      <td>-7270.0</td>\n",
       "    </tr>\n",
       "    <tr>\n",
       "      <th>...</th>\n",
       "      <td>...</td>\n",
       "      <td>...</td>\n",
       "      <td>...</td>\n",
       "      <td>...</td>\n",
       "      <td>...</td>\n",
       "      <td>...</td>\n",
       "      <td>...</td>\n",
       "      <td>...</td>\n",
       "      <td>...</td>\n",
       "      <td>...</td>\n",
       "    </tr>\n",
       "    <tr>\n",
       "      <th>32680</th>\n",
       "      <td>3400.0</td>\n",
       "      <td>2018-08</td>\n",
       "      <td>No</td>\n",
       "      <td>1.0</td>\n",
       "      <td>0.0</td>\n",
       "      <td>1.0</td>\n",
       "      <td>350.0</td>\n",
       "      <td>263.0</td>\n",
       "      <td>0.0</td>\n",
       "      <td>-87.0</td>\n",
       "    </tr>\n",
       "    <tr>\n",
       "      <th>32712</th>\n",
       "      <td>2201.0</td>\n",
       "      <td>2018-08</td>\n",
       "      <td>Yes</td>\n",
       "      <td>281.0</td>\n",
       "      <td>40.0</td>\n",
       "      <td>321.0</td>\n",
       "      <td>424663.0</td>\n",
       "      <td>422127.0</td>\n",
       "      <td>-100.0</td>\n",
       "      <td>-2536.0</td>\n",
       "    </tr>\n",
       "    <tr>\n",
       "      <th>32713</th>\n",
       "      <td>1954.0</td>\n",
       "      <td>2018-08</td>\n",
       "      <td>Yes</td>\n",
       "      <td>34.0</td>\n",
       "      <td>2.0</td>\n",
       "      <td>36.0</td>\n",
       "      <td>55586.0</td>\n",
       "      <td>54680.0</td>\n",
       "      <td>0.0</td>\n",
       "      <td>-906.0</td>\n",
       "    </tr>\n",
       "    <tr>\n",
       "      <th>32730</th>\n",
       "      <td>3019.0</td>\n",
       "      <td>2018-08</td>\n",
       "      <td>No</td>\n",
       "      <td>1.0</td>\n",
       "      <td>0.0</td>\n",
       "      <td>1.0</td>\n",
       "      <td>299.0</td>\n",
       "      <td>279.0</td>\n",
       "      <td>0.0</td>\n",
       "      <td>-20.0</td>\n",
       "    </tr>\n",
       "    <tr>\n",
       "      <th>32733</th>\n",
       "      <td>3927.0</td>\n",
       "      <td>2018-08</td>\n",
       "      <td>No</td>\n",
       "      <td>1.0</td>\n",
       "      <td>0.0</td>\n",
       "      <td>1.0</td>\n",
       "      <td>3333.0</td>\n",
       "      <td>3308.0</td>\n",
       "      <td>0.0</td>\n",
       "      <td>-25.0</td>\n",
       "    </tr>\n",
       "  </tbody>\n",
       "</table>\n",
       "<p>1557 rows × 10 columns</p>\n",
       "</div>"
      ],
      "text/plain": [
       "       Integration ID Report Month Integration Connect Partner? (Yes/No)  \\\n",
       "104             105.0      2019-01                                   Yes   \n",
       "117             118.0      2019-01                                   Yes   \n",
       "147             148.0      2019-01                                    No   \n",
       "195             196.0      2019-01                                    No   \n",
       "233             234.0      2019-01                                    No   \n",
       "...               ...          ...                                   ...   \n",
       "32680          3400.0      2018-08                                    No   \n",
       "32712          2201.0      2018-08                                   Yes   \n",
       "32713          1954.0      2018-08                                   Yes   \n",
       "32730          3019.0      2018-08                                    No   \n",
       "32733          3927.0      2018-08                                    No   \n",
       "\n",
       "       Paid Portal Installed Count  Free Portal Installed Count  \\\n",
       "104                           26.0                          8.0   \n",
       "117                         1882.0                        943.0   \n",
       "147                            1.0                          1.0   \n",
       "195                            2.0                          0.0   \n",
       "233                           81.0                         29.0   \n",
       "...                            ...                          ...   \n",
       "32680                          1.0                          0.0   \n",
       "32712                        281.0                         40.0   \n",
       "32713                         34.0                          2.0   \n",
       "32730                          1.0                          0.0   \n",
       "32733                          1.0                          0.0   \n",
       "\n",
       "       Total Installed Count  Integration Total MRR Beginning of Month  \\\n",
       "104                     34.0                                   38092.0   \n",
       "117                   2825.0                                 2824724.0   \n",
       "147                      2.0                                     900.0   \n",
       "195                      2.0                                    9803.0   \n",
       "233                    110.0                                  164620.0   \n",
       "...                      ...                                       ...   \n",
       "32680                    1.0                                     350.0   \n",
       "32712                  321.0                                  424663.0   \n",
       "32713                   36.0                                   55586.0   \n",
       "32730                    1.0                                     299.0   \n",
       "32733                    1.0                                    3333.0   \n",
       "\n",
       "       Integration Total MRR End of Month  \\\n",
       "104                               37816.0   \n",
       "117                             2812074.0   \n",
       "147                                 875.0   \n",
       "195                                9556.0   \n",
       "233                              157350.0   \n",
       "...                                   ...   \n",
       "32680                               263.0   \n",
       "32712                            422127.0   \n",
       "32713                             54680.0   \n",
       "32730                               279.0   \n",
       "32733                              3308.0   \n",
       "\n",
       "       Integration Total Cancellation Dollars  Integration Total MRR Increase  \n",
       "104                                       0.0                          -276.0  \n",
       "117                                  -42117.0                        -12650.0  \n",
       "147                                       0.0                           -25.0  \n",
       "195                                       0.0                          -247.0  \n",
       "233                                   -4964.0                         -7270.0  \n",
       "...                                       ...                             ...  \n",
       "32680                                     0.0                           -87.0  \n",
       "32712                                  -100.0                         -2536.0  \n",
       "32713                                     0.0                          -906.0  \n",
       "32730                                     0.0                           -20.0  \n",
       "32733                                     0.0                           -25.0  \n",
       "\n",
       "[1557 rows x 10 columns]"
      ]
     },
     "execution_count": 37,
     "metadata": {},
     "output_type": "execute_result"
    }
   ],
   "source": [
    "check"
   ]
  },
  {
   "cell_type": "code",
   "execution_count": null,
   "metadata": {},
   "outputs": [],
   "source": []
  },
  {
   "cell_type": "markdown",
   "metadata": {},
   "source": [
    "# EDA"
   ]
  },
  {
   "cell_type": "markdown",
   "metadata": {},
   "source": [
    "#### How have general integrations trended over time?"
   ]
  },
  {
   "cell_type": "markdown",
   "metadata": {},
   "source": [
    "For customers, ICP and not, the Total Installation Count is on the rise"
   ]
  },
  {
   "cell_type": "code",
   "execution_count": null,
   "metadata": {},
   "outputs": [],
   "source": [
    "ie.groupby(['Integration Connect Partner? (Yes/No)', 'Report Month']).agg({'Total Installed Count': ['sum','mean', 'min', 'max']})"
   ]
  },
  {
   "cell_type": "code",
   "execution_count": null,
   "metadata": {},
   "outputs": [],
   "source": [
    "iot=ie.groupby(['Report Month','Integration Connect Partner? (Yes/No)'])['Total Installed Count','Integration Total Cancellation Dollars','Integration Total MRR Increase'].mean() \n",
    "iot.reset_index()"
   ]
  },
  {
   "cell_type": "code",
   "execution_count": null,
   "metadata": {},
   "outputs": [],
   "source": [
    "ibm=ie.groupby(['Report Month'])['Paid Portal Installed Count','Free Portal Installed Count', 'Integration Total Cancellation Dollars'].mean() \n",
    "ibm.reset_index()"
   ]
  },
  {
   "cell_type": "code",
   "execution_count": null,
   "metadata": {},
   "outputs": [],
   "source": [
    "ie['Integration Connect Partner? (Yes/No)'].value_counts()"
   ]
  },
  {
   "cell_type": "markdown",
   "metadata": {},
   "source": [
    "Need to find a way to segment Integration ID based on Revenue, Cancellation dollars and number of installatons\n",
    "\n",
    "\"One and Done\" \n",
    "\"Above Average\"\n",
    "\"Needle Movers\" Large part of MRR but also cancellation"
   ]
  },
  {
   "cell_type": "code",
   "execution_count": null,
   "metadata": {},
   "outputs": [],
   "source": [
    "ie['Total Installed Count'].mean()"
   ]
  },
  {
   "cell_type": "code",
   "execution_count": null,
   "metadata": {},
   "outputs": [],
   "source": [
    "def weighted_average_of_group(values, weights, item):\n",
    "    return (values * weights).groupby(item).sum() / weights.groupby(item).sum()"
   ]
  },
  {
   "cell_type": "code",
   "execution_count": null,
   "metadata": {},
   "outputs": [],
   "source": [
    "hmm = weighted_average_of_group(values=ie['Integration Total Cancellation Dollars'],\n",
    "                          weights=ie['Total Installed Count'], item=ie['Report Month'])\n",
    "hmm.reset_index()"
   ]
  },
  {
   "cell_type": "code",
   "execution_count": null,
   "metadata": {},
   "outputs": [],
   "source": [
    "hmm.head(1000)"
   ]
  },
  {
   "cell_type": "code",
   "execution_count": null,
   "metadata": {
    "scrolled": true
   },
   "outputs": [],
   "source": [
    "# ie.groupby(['Integration ID','Report Month'])['Total Installed Count','Integration Total Cancellation Dollars','Integration Total MRR Increase'].mean()"
   ]
  },
  {
   "cell_type": "code",
   "execution_count": null,
   "metadata": {},
   "outputs": [],
   "source": [
    "pt= (hcm['Product Tier'].value_counts(normalize=True,dropna=False))*100"
   ]
  },
  {
   "cell_type": "code",
   "execution_count": null,
   "metadata": {},
   "outputs": [],
   "source": [
    "pt = pt.reset_index()"
   ]
  },
  {
   "cell_type": "code",
   "execution_count": null,
   "metadata": {},
   "outputs": [],
   "source": [
    "pt.columns = ['Product Tier','Distributions']"
   ]
  },
  {
   "cell_type": "code",
   "execution_count": null,
   "metadata": {},
   "outputs": [],
   "source": [
    "a = hcm.groupby('Product Tier')['Number of Integrations'].sum()\n",
    "a.reset_index()"
   ]
  },
  {
   "cell_type": "code",
   "execution_count": null,
   "metadata": {},
   "outputs": [],
   "source": [
    "pta = pd.merge(pt, a, how=\"inner\", on=['Product Tier'])\n",
    "pta"
   ]
  },
  {
   "cell_type": "code",
   "execution_count": null,
   "metadata": {},
   "outputs": [],
   "source": [
    "pta['Percentage of Intergrations']= (pta['Number of Integrations']/pta['Number of Integrations'].sum())*100"
   ]
  },
  {
   "cell_type": "code",
   "execution_count": null,
   "metadata": {},
   "outputs": [],
   "source": [
    "pta"
   ]
  },
  {
   "cell_type": "code",
   "execution_count": null,
   "metadata": {},
   "outputs": [],
   "source": [
    "(hcm.groupby('Product Tier')['Customer Segment'].value_counts(normalize=True,dropna=False))*100"
   ]
  },
  {
   "cell_type": "code",
   "execution_count": null,
   "metadata": {},
   "outputs": [],
   "source": [
    "hcm.head(1000)"
   ]
  },
  {
   "cell_type": "code",
   "execution_count": null,
   "metadata": {},
   "outputs": [],
   "source": [
    "hcv.groupby('Product Tier')['Customer Segment'].value_counts(normalize=True,dropna=False)"
   ]
  },
  {
   "cell_type": "markdown",
   "metadata": {},
   "source": [
    "EDA wthin context.\n",
    "In May 2018 hubspot launched the Apps for Agency program \"25+ Integration Partners to Launch Free Software Program for Agencies\"\n",
    "Jan 2019 \"HubSpot Launches Zoom Integration to Help Customers Have Better Meetings and Webinars\"\n",
    "looking back to know where we're going"
   ]
  },
  {
   "cell_type": "code",
   "execution_count": null,
   "metadata": {},
   "outputs": [],
   "source": [
    "hscb = pd.merge(hcv, hcm, how=\"inner\", on=['Customer ID','Report Month'])"
   ]
  },
  {
   "cell_type": "code",
   "execution_count": null,
   "metadata": {},
   "outputs": [],
   "source": []
  },
  {
   "cell_type": "code",
   "execution_count": null,
   "metadata": {},
   "outputs": [],
   "source": [
    "hscb.drop_duplicates()"
   ]
  },
  {
   "cell_type": "code",
   "execution_count": null,
   "metadata": {},
   "outputs": [],
   "source": [
    "def replace_undefined(df):\n",
    "    # Condition to check if 'Product_Tier' is 'Undefined' and corresponding Customer Subscription Value at the end of the month\n",
    "    condition1 = (df['Product Tier'] == 'Undefined') &  (df['Customer Value End of Month'] <= 20)\n",
    "    condition2 = (df['Product Tier'] == 'Undefined') &  (df['Customer Value End of Month'].between(21, 719))\n",
    "    condition3 = (df['Product Tier'] == 'Undefined') & (df['Customer Value End of Month'].between(720, 2000))\n",
    "    condition4 = (df['Product Tier'] == 'Undefined') & (df['Customer Value End of Month']>=2000)\n",
    "\n",
    "    # Replace 'Product_Tier' values where the condition is True with value\n",
    "    df.loc[condition1, 'Product Tier'] = 'Basic'\n",
    "    df.loc[condition2, 'Product Tier'] = 'Starter'\n",
    "    df.loc[condition3, 'Product Tier'] = 'Pro'\n",
    "    df.loc[condition4, 'Product Tier'] = 'Enterprise'\n",
    "\n",
    "    return df"
   ]
  },
  {
   "cell_type": "code",
   "execution_count": null,
   "metadata": {},
   "outputs": [],
   "source": [
    "hcm = replace_undefined(hcm)"
   ]
  },
  {
   "attachments": {
    "image.png": {
     "image/png": "[encoded data removed]"
    }
   },
   "cell_type": "markdown",
   "metadata": {},
   "source": [
    "![image.png](attachment:image.png)"
   ]
  },
  {
   "cell_type": "code",
   "execution_count": null,
   "metadata": {},
   "outputs": [],
   "source": [
    "hscb.info()"
   ]
  },
  {
   "cell_type": "code",
   "execution_count": null,
   "metadata": {},
   "outputs": [],
   "source": [
    "hscb.reset_index()"
   ]
  },
  {
   "cell_type": "code",
   "execution_count": null,
   "metadata": {},
   "outputs": [],
   "source": [
    "hcv = hcv.drop_duplicates()"
   ]
  },
  {
   "cell_type": "code",
   "execution_count": null,
   "metadata": {},
   "outputs": [],
   "source": [
    "hcm= hcm.drop_duplicates()"
   ]
  },
  {
   "cell_type": "code",
   "execution_count": null,
   "metadata": {},
   "outputs": [],
   "source": [
    "hcv.info()"
   ]
  },
  {
   "cell_type": "markdown",
   "metadata": {},
   "source": [
    "Dont forget to measure the installion count increase from customer id start "
   ]
  },
  {
   "cell_type": "code",
   "execution_count": null,
   "metadata": {},
   "outputs": [],
   "source": []
  }
 ],
 "metadata": {
  "kernelspec": {
   "display_name": "Python 3",
   "language": "python",
   "name": "python3"
  },
  "language_info": {
   "codemirror_mode": {
    "name": "ipython",
    "version": 3
   },
   "file_extension": ".py",
   "mimetype": "text/x-python",
   "name": "python",
   "nbconvert_exporter": "python",
   "pygments_lexer": "ipython3",
   "version": "3.7.7"
  }
 },
 "nbformat": 4,
 "nbformat_minor": 4
}
