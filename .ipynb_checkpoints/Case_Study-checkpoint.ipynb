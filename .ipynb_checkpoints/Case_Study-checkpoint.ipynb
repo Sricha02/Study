{
 "cells": [
  {
   "cell_type": "code",
   "execution_count": 1,
   "metadata": {},
   "outputs": [],
   "source": [
    "import pandas as pd\n",
    "import numpy as np"
   ]
  },
  {
   "cell_type": "code",
   "execution_count": 13,
   "metadata": {},
   "outputs": [
    {
     "name": "stdout",
     "output_type": "stream",
     "text": [
      "Collecting xlrd\n",
      "  Using cached xlrd-2.0.1-py2.py3-none-any.whl (96 kB)\n",
      "Installing collected packages: xlrd\n",
      "Successfully installed xlrd-2.0.1\n",
      "Note: you may need to restart the kernel to use updated packages.\n"
     ]
    }
   ],
   "source": [
    "pip install xlrd"
   ]
  },
  {
   "cell_type": "code",
   "execution_count": 2,
   "metadata": {},
   "outputs": [],
   "source": [
    "import xlrd"
   ]
  },
  {
   "cell_type": "code",
   "execution_count": 6,
   "metadata": {},
   "outputs": [],
   "source": [
    "dict_df = pd.read_excel('C:/Users/shant/GNIZE/Study/Integrations_Model_Data.xls',\n",
    "                   sheet_name=['HubSpot Customer Base Metadata','HubSpot Customer Base Value','Integration Ecosystem'])"
   ]
  },
  {
   "cell_type": "code",
   "execution_count": 13,
   "metadata": {},
   "outputs": [
    {
     "name": "stdout",
     "output_type": "stream",
     "text": [
      "<class 'pandas.core.frame.DataFrame'>\n",
      "RangeIndex: 32746 entries, 0 to 32745\n",
      "Data columns (total 9 columns):\n",
      " #   Column                                    Non-Null Count  Dtype \n",
      "---  ------                                    --------------  ----- \n",
      " 0   Integration ID                            32746 non-null  int64 \n",
      " 1   Report Month                              32746 non-null  object\n",
      " 2   Integration Connect Partner? (Yes/No)     32746 non-null  object\n",
      " 3   Paid Portal Installed Count               32746 non-null  int64 \n",
      " 4   Free Portal Installed Count               32746 non-null  int64 \n",
      " 5   Total Installed Count                     32746 non-null  int64 \n",
      " 6   Integration Total MRR Beginning of Month  32746 non-null  int64 \n",
      " 7   Integration Total MRR End of Month        32746 non-null  int64 \n",
      " 8   Integration Total Cancellation Dollars    32746 non-null  int64 \n",
      "dtypes: int64(7), object(2)\n",
      "memory usage: 2.2+ MB\n"
     ]
    }
   ],
   "source": [
    "dict_df['Integration Ecosystem'].info()"
   ]
  },
  {
   "cell_type": "code",
   "execution_count": null,
   "metadata": {},
   "outputs": [],
   "source": []
  }
 ],
 "metadata": {
  "kernelspec": {
   "display_name": "Python 3",
   "language": "python",
   "name": "python3"
  },
  "language_info": {
   "codemirror_mode": {
    "name": "ipython",
    "version": 3
   },
   "file_extension": ".py",
   "mimetype": "text/x-python",
   "name": "python",
   "nbconvert_exporter": "python",
   "pygments_lexer": "ipython3",
   "version": "3.7.7"
  }
 },
 "nbformat": 4,
 "nbformat_minor": 4
}
